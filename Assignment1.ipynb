{
 "cells": [
  {
   "cell_type": "code",
   "execution_count": 1,
   "id": "55e9eb5f-2b4a-4089-a0f4-10cc11685a4f",
   "metadata": {},
   "outputs": [],
   "source": [
    "import pandas as pd\n",
    "import numpy as np\n",
    "import time\n",
    "from sklearn.model_selection import train_test_split, GridSearchCV\n",
    "from sklearn.preprocessing import LabelEncoder, OneHotEncoder, StandardScaler\n",
    "from sklearn.impute import SimpleImputer\n",
    "from sklearn.pipeline import Pipeline\n",
    "from sklearn.compose import ColumnTransformer\n",
    "from sklearn.metrics import (\n",
    "    classification_report,\n",
    "    confusion_matrix,\n",
    "    accuracy_score,\n",
    "    precision_score,\n",
    "    recall_score,\n",
    "    f1_score,\n",
    "    roc_auc_score\n",
    ")\n",
    "import matplotlib.pyplot as plt\n",
    "import seaborn as sns\n"
   ]
  },
  {
   "cell_type": "code",
   "execution_count": 37,
   "id": "f9c29a27-b28b-4f8c-8a33-f30983d351a8",
   "metadata": {},
   "outputs": [
    {
     "name": "stdout",
     "output_type": "stream",
     "text": [
      "Total instances: 48842\n",
      "Total features: 15\n"
     ]
    }
   ],
   "source": [
    "\n",
    "column_names = [\n",
    "    'age', 'workclass', 'fnlwgt', 'education', 'education-num',\n",
    "    'marital-status', 'occupation', 'relationship', 'race', 'sex',\n",
    "    'capital-gain', 'capital-loss', 'hours-per-week', 'native-country', 'income'\n",
    "]\n",
    "\n",
    "\n",
    "train_data = pd.read_csv(\n",
    "    'adult.data',\n",
    "    header=None,\n",
    "    names=column_names,\n",
    "    na_values=' ?',\n",
    "    skipinitialspace=True\n",
    ")\n",
    "\n",
    "\n",
    "test_data = pd.read_csv(\n",
    "    'adult.test',\n",
    "    header=None,\n",
    "    names=column_names,\n",
    "    na_values=' ?',\n",
    "    skipinitialspace=True,\n",
    "    skiprows=1\n",
    ")\n",
    "\n",
    "\n",
    "data = pd.concat([train_data, test_data], ignore_index=True)\n",
    "\n",
    "print(f\"Total instances: {data.shape[0]}\")\n",
    "print(f\"Total features: {data.shape[1]}\")\n"
   ]
  },
  {
   "cell_type": "code",
   "execution_count": 41,
   "id": "d641a526-9973-4a39-9126-e05b54aa71d4",
   "metadata": {},
   "outputs": [
    {
     "name": "stdout",
     "output_type": "stream",
     "text": [
      "   age         workclass  fnlwgt  education  education-num  \\\n",
      "0   39         State-gov   77516  Bachelors             13   \n",
      "1   50  Self-emp-not-inc   83311  Bachelors             13   \n",
      "2   38           Private  215646    HS-grad              9   \n",
      "3   53           Private  234721       11th              7   \n",
      "4   28           Private  338409  Bachelors             13   \n",
      "\n",
      "       marital-status         occupation   relationship   race     sex  \\\n",
      "0       Never-married       Adm-clerical  Not-in-family  White    Male   \n",
      "1  Married-civ-spouse    Exec-managerial        Husband  White    Male   \n",
      "2            Divorced  Handlers-cleaners  Not-in-family  White    Male   \n",
      "3  Married-civ-spouse  Handlers-cleaners        Husband  Black    Male   \n",
      "4  Married-civ-spouse     Prof-specialty           Wife  Black  Female   \n",
      "\n",
      "   capital-gain  capital-loss  hours-per-week native-country income  \n",
      "0          2174             0              40  United-States  <=50K  \n",
      "1             0             0              13  United-States  <=50K  \n",
      "2             0             0              40  United-States  <=50K  \n",
      "3             0             0              40  United-States  <=50K  \n",
      "4             0             0              40           Cuba  <=50K  \n",
      "<class 'pandas.core.frame.DataFrame'>\n",
      "RangeIndex: 48842 entries, 0 to 48841\n",
      "Data columns (total 15 columns):\n",
      " #   Column          Non-Null Count  Dtype \n",
      "---  ------          --------------  ----- \n",
      " 0   age             48842 non-null  int64 \n",
      " 1   workclass       48842 non-null  object\n",
      " 2   fnlwgt          48842 non-null  int64 \n",
      " 3   education       48842 non-null  object\n",
      " 4   education-num   48842 non-null  int64 \n",
      " 5   marital-status  48842 non-null  object\n",
      " 6   occupation      48842 non-null  object\n",
      " 7   relationship    48842 non-null  object\n",
      " 8   race            48842 non-null  object\n",
      " 9   sex             48842 non-null  object\n",
      " 10  capital-gain    48842 non-null  int64 \n",
      " 11  capital-loss    48842 non-null  int64 \n",
      " 12  hours-per-week  48842 non-null  int64 \n",
      " 13  native-country  48842 non-null  object\n",
      " 14  income          48842 non-null  object\n",
      "dtypes: int64(6), object(9)\n",
      "memory usage: 5.6+ MB\n",
      "None\n",
      "                 age workclass        fnlwgt education  education-num  \\\n",
      "count   48842.000000     48842  4.884200e+04     48842   48842.000000   \n",
      "unique           NaN         9           NaN        16            NaN   \n",
      "top              NaN   Private           NaN   HS-grad            NaN   \n",
      "freq             NaN     33906           NaN     15784            NaN   \n",
      "mean       38.643585       NaN  1.896641e+05       NaN      10.078089   \n",
      "std        13.710510       NaN  1.056040e+05       NaN       2.570973   \n",
      "min        17.000000       NaN  1.228500e+04       NaN       1.000000   \n",
      "25%        28.000000       NaN  1.175505e+05       NaN       9.000000   \n",
      "50%        37.000000       NaN  1.781445e+05       NaN      10.000000   \n",
      "75%        48.000000       NaN  2.376420e+05       NaN      12.000000   \n",
      "max        90.000000       NaN  1.490400e+06       NaN      16.000000   \n",
      "\n",
      "            marital-status      occupation relationship   race    sex  \\\n",
      "count                48842           48842        48842  48842  48842   \n",
      "unique                   7              15            6      5      2   \n",
      "top     Married-civ-spouse  Prof-specialty      Husband  White   Male   \n",
      "freq                 22379            6172        19716  41762  32650   \n",
      "mean                   NaN             NaN          NaN    NaN    NaN   \n",
      "std                    NaN             NaN          NaN    NaN    NaN   \n",
      "min                    NaN             NaN          NaN    NaN    NaN   \n",
      "25%                    NaN             NaN          NaN    NaN    NaN   \n",
      "50%                    NaN             NaN          NaN    NaN    NaN   \n",
      "75%                    NaN             NaN          NaN    NaN    NaN   \n",
      "max                    NaN             NaN          NaN    NaN    NaN   \n",
      "\n",
      "        capital-gain  capital-loss  hours-per-week native-country income  \n",
      "count   48842.000000  48842.000000    48842.000000          48842  48842  \n",
      "unique           NaN           NaN             NaN             42      4  \n",
      "top              NaN           NaN             NaN  United-States  <=50K  \n",
      "freq             NaN           NaN             NaN          43832  24720  \n",
      "mean     1079.067626     87.502314       40.422382            NaN    NaN  \n",
      "std      7452.019058    403.004552       12.391444            NaN    NaN  \n",
      "min         0.000000      0.000000        1.000000            NaN    NaN  \n",
      "25%         0.000000      0.000000       40.000000            NaN    NaN  \n",
      "50%         0.000000      0.000000       40.000000            NaN    NaN  \n",
      "75%         0.000000      0.000000       45.000000            NaN    NaN  \n",
      "max     99999.000000   4356.000000       99.000000            NaN    NaN  \n",
      "Missing values per column:\n",
      "age               0\n",
      "workclass         0\n",
      "fnlwgt            0\n",
      "education         0\n",
      "education-num     0\n",
      "marital-status    0\n",
      "occupation        0\n",
      "relationship      0\n",
      "race              0\n",
      "sex               0\n",
      "capital-gain      0\n",
      "capital-loss      0\n",
      "hours-per-week    0\n",
      "native-country    0\n",
      "income            0\n",
      "dtype: int64\n"
     ]
    }
   ],
   "source": [
    "\n",
    "print(data.head())\n",
    "\n",
    "\n",
    "print(data.info())\n",
    "\n",
    "\n",
    "print(data.describe(include='all'))\n",
    "\n",
    "\n",
    "print(\"Missing values per column:\")\n",
    "print(data.isnull().sum())\n"
   ]
  },
  {
   "cell_type": "code",
   "execution_count": 43,
   "id": "54cd886e-ffcb-49d1-90a2-fbab199fcea1",
   "metadata": {},
   "outputs": [
    {
     "name": "stdout",
     "output_type": "stream",
     "text": [
      "Categorical features: ['workclass', 'education', 'marital-status', 'occupation', 'relationship', 'race', 'sex', 'native-country']\n",
      "Numerical features: ['age', 'fnlwgt', 'education-num', 'capital-gain', 'capital-loss', 'hours-per-week']\n"
     ]
    }
   ],
   "source": [
    "\n",
    "categorical_features = data.select_dtypes(include=['object']).columns.tolist()\n",
    "categorical_features.remove('income')  # Exclude target variable\n",
    "numerical_features = data.select_dtypes(include=['int64', 'float64']).columns.tolist()\n",
    "\n",
    "print(f\"Categorical features: {categorical_features}\")\n",
    "print(f\"Numerical features: {numerical_features}\")\n",
    "\n",
    "\n",
    "categorical_transformer = Pipeline(steps=[\n",
    "    ('imputer', SimpleImputer(strategy='most_frequent')),\n",
    "    ('onehot', OneHotEncoder(handle_unknown='ignore'))\n",
    "])\n",
    "\n",
    "numerical_transformer = Pipeline(steps=[\n",
    "    ('imputer', SimpleImputer(strategy='median')),\n",
    "    ('scaler', StandardScaler())\n",
    "])\n",
    "\n",
    "\n",
    "preprocessor = ColumnTransformer(\n",
    "    transformers=[\n",
    "        ('num', numerical_transformer, numerical_features),\n",
    "        ('cat', categorical_transformer, categorical_features)\n",
    "    ])\n"
   ]
  },
  {
   "cell_type": "code",
   "execution_count": 45,
   "id": "c2929a4e-248d-4ae1-b5b6-770bd5ca1633",
   "metadata": {},
   "outputs": [
    {
     "name": "stdout",
     "output_type": "stream",
     "text": [
      "income\n",
      "0    37155\n",
      "1    11687\n",
      "Name: count, dtype: int64\n"
     ]
    }
   ],
   "source": [
    "\n",
    "data['income'] = data['income'].apply(lambda x: x.strip().strip('.'))\n",
    "\n",
    "label_encoder = LabelEncoder()\n",
    "data['income'] = label_encoder.fit_transform(data['income'])\n",
    "\n",
    "print(data['income'].value_counts())\n"
   ]
  },
  {
   "cell_type": "code",
   "execution_count": 47,
   "id": "6e8bbfac-7d70-409a-bb5d-e3ed3a974a28",
   "metadata": {},
   "outputs": [],
   "source": [
    "X = data.drop('income', axis=1)\n",
    "y = data['income']\n"
   ]
  },
  {
   "cell_type": "code",
   "execution_count": 49,
   "id": "28e64bd5-e247-4ac2-9df1-601a895f2530",
   "metadata": {},
   "outputs": [
    {
     "name": "stdout",
     "output_type": "stream",
     "text": [
      "Training instances: 32561\n",
      "Testing instances: 16281\n"
     ]
    }
   ],
   "source": [
    "\n",
    "train_size = 32561\n",
    "test_size = 16281\n",
    "\n",
    "X_train = X.iloc[:train_size]\n",
    "y_train = y.iloc[:train_size]\n",
    "\n",
    "X_test = X.iloc[train_size:train_size + test_size]\n",
    "y_test = y.iloc[train_size:train_size + test_size]\n",
    "\n",
    "print(f\"Training instances: {X_train.shape[0]}\")\n",
    "print(f\"Testing instances: {X_test.shape[0]}\")\n"
   ]
  },
  {
   "cell_type": "code",
   "execution_count": 51,
   "id": "13919889-b50a-4d3a-9900-4e4c573da9fc",
   "metadata": {},
   "outputs": [],
   "source": [
    "from sklearn.linear_model import LogisticRegression\n"
   ]
  },
  {
   "cell_type": "code",
   "execution_count": 53,
   "id": "b6e4ee56-eb17-4ddc-b30c-340381222805",
   "metadata": {},
   "outputs": [],
   "source": [
    "from sklearn.tree import DecisionTreeClassifier\n"
   ]
  },
  {
   "cell_type": "code",
   "execution_count": 55,
   "id": "c3b36292-a4f9-40e1-97e5-4052c56ed916",
   "metadata": {},
   "outputs": [],
   "source": [
    "logreg_pipeline = Pipeline(steps=[\n",
    "    ('preprocessor', preprocessor),\n",
    "    ('classifier', LogisticRegression(max_iter=1000, solver='liblinear', random_state=42))\n",
    "])\n"
   ]
  },
  {
   "cell_type": "code",
   "execution_count": 57,
   "id": "8dd9764a-358b-478f-a4c0-897f8f17d4fb",
   "metadata": {},
   "outputs": [],
   "source": [
    "dt_pipeline = Pipeline(steps=[\n",
    "    ('preprocessor', preprocessor),\n",
    "    ('classifier', DecisionTreeClassifier(random_state=42))\n",
    "])\n"
   ]
  },
  {
   "cell_type": "code",
   "execution_count": 59,
   "id": "25c3f487-9d2f-4eaa-a1aa-d9f7371d6d94",
   "metadata": {},
   "outputs": [],
   "source": [
    "\n",
    "logreg_param_grid = {\n",
    "    'classifier__C': [0.01, 0.1, 1, 10],\n",
    "    'classifier__penalty': ['l1', 'l2']\n",
    "}\n",
    "\n",
    "\n",
    "dt_param_grid = {\n",
    "    'classifier__max_depth': [None, 10, 20, 30],\n",
    "    'classifier__min_samples_split': [2, 5, 10],\n",
    "    'classifier__criterion': ['gini', 'entropy']\n",
    "}\n"
   ]
  },
  {
   "cell_type": "code",
   "execution_count": 61,
   "id": "70ae2fab-5db0-426f-9f72-64a72b7e6db6",
   "metadata": {},
   "outputs": [
    {
     "name": "stdout",
     "output_type": "stream",
     "text": [
      "Fitting 5 folds for each of 8 candidates, totalling 40 fits\n",
      "Logistic Regression best params: {'classifier__C': 1, 'classifier__penalty': 'l2'}\n",
      "Logistic Regression training time: 11.84 seconds\n",
      "Fitting 5 folds for each of 24 candidates, totalling 120 fits\n",
      "Decision Tree best params: {'classifier__criterion': 'gini', 'classifier__max_depth': 10, 'classifier__min_samples_split': 2}\n",
      "Decision Tree training time: 9.91 seconds\n"
     ]
    }
   ],
   "source": [
    "\n",
    "logreg_grid_search = GridSearchCV(\n",
    "    logreg_pipeline,\n",
    "    logreg_param_grid,\n",
    "    cv=5,\n",
    "    n_jobs=-1,\n",
    "    scoring='f1',\n",
    "    verbose=1\n",
    ")\n",
    "\n",
    "start_time = time.time()\n",
    "logreg_grid_search.fit(X_train, y_train)\n",
    "logreg_training_time = time.time() - start_time\n",
    "print(f\"Logistic Regression best params: {logreg_grid_search.best_params_}\")\n",
    "print(f\"Logistic Regression training time: {logreg_training_time:.2f} seconds\")\n",
    "\n",
    "\n",
    "dt_grid_search = GridSearchCV(\n",
    "    dt_pipeline,\n",
    "    dt_param_grid,\n",
    "    cv=5,\n",
    "    n_jobs=-1,\n",
    "    scoring='f1',\n",
    "    verbose=1\n",
    ")\n",
    "\n",
    "start_time = time.time()\n",
    "dt_grid_search.fit(X_train, y_train)\n",
    "dt_training_time = time.time() - start_time\n",
    "print(f\"Decision Tree best params: {dt_grid_search.best_params_}\")\n",
    "print(f\"Decision Tree training time: {dt_training_time:.2f} seconds\")\n"
   ]
  },
  {
   "cell_type": "code",
   "execution_count": 63,
   "id": "f3fbb9d2-3073-40de-8782-ff39d5871843",
   "metadata": {},
   "outputs": [
    {
     "name": "stdout",
     "output_type": "stream",
     "text": [
      "Logistic Regression prediction time: 0.0300 seconds\n",
      "Decision Tree prediction time: 0.0325 seconds\n"
     ]
    }
   ],
   "source": [
    "\n",
    "start_time = time.time()\n",
    "logreg_predictions = logreg_grid_search.predict(X_test)\n",
    "logreg_prediction_time = time.time() - start_time\n",
    "\n",
    "\n",
    "start_time = time.time()\n",
    "dt_predictions = dt_grid_search.predict(X_test)\n",
    "dt_prediction_time = time.time() - start_time\n",
    "\n",
    "print(f\"Logistic Regression prediction time: {logreg_prediction_time:.4f} seconds\")\n",
    "print(f\"Decision Tree prediction time: {dt_prediction_time:.4f} seconds\")\n"
   ]
  },
  {
   "cell_type": "code",
   "execution_count": 65,
   "id": "61849597-5ab8-4192-86b5-f4202b05e0d6",
   "metadata": {},
   "outputs": [],
   "source": [
    "def get_metrics(y_true, y_pred):\n",
    "    return {\n",
    "        'Accuracy': accuracy_score(y_true, y_pred),\n",
    "        'Precision': precision_score(y_true, y_pred),\n",
    "        'Recall': recall_score(y_true, y_pred),\n",
    "        'F1-Score': f1_score(y_true, y_pred),\n",
    "        'ROC-AUC': roc_auc_score(y_true, y_pred)\n",
    "    }\n",
    "\n",
    "logreg_metrics = get_metrics(y_test, logreg_predictions)\n",
    "dt_metrics = get_metrics(y_test, dt_predictions)\n"
   ]
  },
  {
   "cell_type": "code",
   "execution_count": 67,
   "id": "83301c44-732f-4bfe-a4c0-cf6058e0f8a0",
   "metadata": {},
   "outputs": [
    {
     "name": "stdout",
     "output_type": "stream",
     "text": [
      "Performance Metrics:\n",
      "      Metric  Logistic Regression  Decision Tree\n",
      "0   Accuracy             0.853019       0.860205\n",
      "1  Precision             0.730124       0.760451\n",
      "2     Recall             0.599324       0.595944\n",
      "3   F1-Score             0.658289       0.668222\n",
      "4    ROC-AUC             0.765404       0.768941\n",
      "\n",
      "Training and Prediction Times:\n",
      "                 Model  Training Time (s)  Prediction Time (s)\n",
      "0  Logistic Regression          11.843578             0.030000\n",
      "1        Decision Tree           9.912246             0.032521\n"
     ]
    }
   ],
   "source": [
    "import pandas as pd\n",
    "\n",
    "results = pd.DataFrame({\n",
    "    'Metric': ['Accuracy', 'Precision', 'Recall', 'F1-Score', 'ROC-AUC'],\n",
    "    'Logistic Regression': list(logreg_metrics.values()),\n",
    "    'Decision Tree': list(dt_metrics.values())\n",
    "})\n",
    "\n",
    "time_results = pd.DataFrame({\n",
    "    'Model': ['Logistic Regression', 'Decision Tree'],\n",
    "    'Training Time (s)': [logreg_training_time, dt_training_time],\n",
    "    'Prediction Time (s)': [logreg_prediction_time, dt_prediction_time]\n",
    "})\n",
    "\n",
    "print(\"Performance Metrics:\")\n",
    "print(results)\n",
    "\n",
    "print(\"\\nTraining and Prediction Times:\")\n",
    "print(time_results)\n"
   ]
  },
  {
   "cell_type": "code",
   "execution_count": null,
   "id": "88838e58-5d15-417e-a1d2-b143a1cec698",
   "metadata": {},
   "outputs": [],
   "source": []
  }
 ],
 "metadata": {
  "kernelspec": {
   "display_name": "Python 3 (ipykernel)",
   "language": "python",
   "name": "python3"
  },
  "language_info": {
   "codemirror_mode": {
    "name": "ipython",
    "version": 3
   },
   "file_extension": ".py",
   "mimetype": "text/x-python",
   "name": "python",
   "nbconvert_exporter": "python",
   "pygments_lexer": "ipython3",
   "version": "3.12.4"
  }
 },
 "nbformat": 4,
 "nbformat_minor": 5
}
